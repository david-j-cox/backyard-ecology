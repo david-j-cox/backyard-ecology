{
 "cells": [
  {
   "cell_type": "code",
   "execution_count": 1,
   "id": "8f2ea5d0",
   "metadata": {},
   "outputs": [],
   "source": [
    "# Third-party imports\n",
    "import numpy as np\n",
    "import pandas as pd\n",
    "from dotenv import load_dotenv\n",
    "\n",
    "pd.set_option('display.max_columns', None)\n",
    "\n",
    "load_dotenv()\n",
    "excel_file = pd.ExcelFile('../data/raw_data_from_gsheet/RawData.xlsx')\n",
    "all_sheet_names = excel_file.sheet_names\n",
    "raw_data_sheets = [sheet for sheet in all_sheet_names if 'raw' in sheet.lower()]\n",
    "daily_summaries_sheets = [sheet for sheet in all_sheet_names if 'daily' in sheet.lower()]\n",
    "\n",
    "\n",
    "# Read in data files and merge like files\n",
    "phase_change_data = pd.read_excel(excel_file, sheet_name='PhaseChanges')\n",
    "phase_change_data.to_csv('../data/phase_change_data.csv', index=False)\n",
    "\n",
    "# Raw data\n",
    "raw_data_frames = []\n",
    "for sheet_name in raw_data_sheets:\n",
    "    df = pd.read_excel(excel_file, sheet_name=sheet_name)\n",
    "    df['source_sheet'] = sheet_name.lower().replace(\" raw data\", \"\").replace(\" \", \"_\").replace(\",\", \"\")\n",
    "    raw_data_frames.append(df)\n",
    "raw_data = pd.concat(raw_data_frames, ignore_index=True)\n",
    "raw_data = raw_data[['Date', 'Bird', 'Time', 'LeftPecks', 'RightPecks', 'LeftSeed', 'RightSeed', 'source_sheet', 'Notes', 'CoolDown']]\n",
    "raw_data.to_csv('../data/raw_data_all_locations.csv', index=False)\n",
    "\n",
    "# Daily summaries\n",
    "daily_summaries_frames = []\n",
    "for sheet_name in daily_summaries_sheets:\n",
    "    df = pd.read_excel(excel_file, sheet_name=sheet_name)\n",
    "    df['source_sheet'] = sheet_name\n",
    "    if \"south\" in sheet_name.lower():\n",
    "        bird_columns = [col for col in df.columns if col not in ['Date', 'source_sheet', 'Feeder Visits']]\n",
    "        df_melted = df.melt(id_vars=['Date', 'source_sheet'], \n",
    "                        value_vars=bird_columns, \n",
    "                        var_name='Bird', \n",
    "                        value_name='Visits')\n",
    "        df_melted.rename(columns={'Visits': 'Feeder Visits'}, inplace=True)\n",
    "        df_melted= df_melted[df_melted['Date'] != 'Grand Total'].reset_index(drop=True)\n",
    "        df = df_melted.copy()\n",
    "    daily_summaries_frames.append(df)\n",
    "daily_sums = pd.concat(daily_summaries_frames, ignore_index=True)\n",
    "daily_sums = daily_sums[['Date', 'source_sheet', 'Bird', 'Feeder Visits']]\n",
    "daily_sums.to_csv('../data/daily_summaries_all_locations.csv', index=False)"
   ]
  }
 ],
 "metadata": {
  "kernelspec": {
   "display_name": "venv",
   "language": "python",
   "name": "python3"
  },
  "language_info": {
   "codemirror_mode": {
    "name": "ipython",
    "version": 3
   },
   "file_extension": ".py",
   "mimetype": "text/x-python",
   "name": "python",
   "nbconvert_exporter": "python",
   "pygments_lexer": "ipython3",
   "version": "3.12.2"
  }
 },
 "nbformat": 4,
 "nbformat_minor": 5
}
